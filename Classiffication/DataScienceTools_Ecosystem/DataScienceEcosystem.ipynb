{
 "cells": [
  {
   "cell_type": "markdown",
   "id": "c7cc3ab5",
   "metadata": {},
   "source": [
    "<h1>Data Science Tools and Ecosystem</h1>"
   ]
  },
  {
   "cell_type": "markdown",
   "id": "5a20eb68",
   "metadata": {},
   "source": [
    "<p>In this notebook, Data Science Tools and Ecosystem are summarized.</p>"
   ]
  },
  {
   "cell_type": "markdown",
   "id": "ba1f9448",
   "metadata": {},
   "source": [
    "Some of the popular languages that Data Scientists use are:"
   ]
  },
  {
   "cell_type": "markdown",
   "id": "054f07e3",
   "metadata": {},
   "source": [
    "<ol>\n",
    "  <li>Python</li>\n",
    "  <li>R</li>\n",
    "  <li>SQL</li>\n",
    "</ol>"
   ]
  },
  {
   "cell_type": "markdown",
   "id": "0b19f42c",
   "metadata": {},
   "source": [
    "<h3><b>Objectives</b></h3>\n",
    "<ul>\n",
    "    <li>List popular languages for Data Science</li>\n",
    "    <li>Arithmetic Expression</li>\n",
    "    <li>Commonly used libraries used by Data Scientists</li>\n",
    "<ul/>"
   ]
  },
  {
   "cell_type": "markdown",
   "id": "778487ed",
   "metadata": {},
   "source": [
    "Some of the commonly used libraries used by Data Scientists include:"
   ]
  },
  {
   "cell_type": "markdown",
   "id": "353c57b5",
   "metadata": {},
   "source": [
    "<ol>\n",
    "  <li>Pandas</li>\n",
    "  <li>Numpy</li>\n",
    "  <li>Matplotlib</li>\n",
    "</ol>"
   ]
  },
  {
   "cell_type": "markdown",
   "id": "f6e8636e",
   "metadata": {},
   "source": [
    "| Data Science Tools|\n",
    "|-------------------|\n",
    "|Jupyter            |\n",
    "|Visual Studio Code |\n",
    "|R studio           |"
   ]
  },
  {
   "cell_type": "markdown",
   "id": "78280858",
   "metadata": {},
   "source": [
    "### Below are a few examples of evaluating arithmetic expressions in Python\n",
    "--------"
   ]
  },
  {
   "cell_type": "code",
   "execution_count": 2,
   "id": "8989a6e9",
   "metadata": {},
   "outputs": [
    {
     "data": {
      "text/plain": [
       "17"
      ]
     },
     "execution_count": 2,
     "metadata": {},
     "output_type": "execute_result"
    }
   ],
   "source": [
    "# This a simple arithmetic expression to mutiply then add integers\n",
    "(3 * 4 )+ 5"
   ]
  },
  {
   "cell_type": "markdown",
   "id": "f7dd0e3b",
   "metadata": {},
   "source": [
    "## Author\n",
    "ANDERSON CHUKWUDI OKI"
   ]
  },
  {
   "cell_type": "code",
   "execution_count": null,
   "id": "177daf44",
   "metadata": {},
   "outputs": [],
   "source": []
  }
 ],
 "metadata": {
  "kernelspec": {
   "display_name": "Python 3 (ipykernel)",
   "language": "python",
   "name": "python3"
  },
  "language_info": {
   "codemirror_mode": {
    "name": "ipython",
    "version": 3
   },
   "file_extension": ".py",
   "mimetype": "text/x-python",
   "name": "python",
   "nbconvert_exporter": "python",
   "pygments_lexer": "ipython3",
   "version": "3.9.7"
  }
 },
 "nbformat": 4,
 "nbformat_minor": 5
}
